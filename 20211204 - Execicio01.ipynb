{
 "cells": [
  {
   "cell_type": "code",
   "execution_count": 1,
   "metadata": {},
   "outputs": [],
   "source": [
    "import pandas as pd\n",
    "import numpy as np\n",
    "\n",
    "# Plotting\n",
    "import seaborn as sns\n",
    "import matplotlib.pyplot as plt"
   ]
  },
  {
   "cell_type": "code",
   "execution_count": 2,
   "metadata": {},
   "outputs": [],
   "source": [
    "path = r'C:\\Users\\felipe.tufaile\\Documents\\GitHub\\MultivariateRegression\\ex1\\{file}.txt'\n",
    "file = 'ex1data1'\n",
    "data = pd.read_csv(path.format(file=file), sep=\",\", header=None)\n",
    "data = data.rename(columns={0:'pop_city_10k', 1:'profit_10k'})"
   ]
  },
  {
   "cell_type": "code",
   "execution_count": 3,
   "metadata": {},
   "outputs": [
    {
     "data": {
      "image/png": "[encoded data removed]",
      "text/plain": [
       "<Figure size 1440x576 with 1 Axes>"
      ]
     },
     "metadata": {
      "needs_background": "light"
     },
     "output_type": "display_data"
    }
   ],
   "source": [
    "## WITH COMPETITORS\n",
    "\n",
    "plt.figure(figsize = (20,8))\n",
    "sns.set_theme(style=\"whitegrid\")\n",
    "\n",
    "fg01 = sns.scatterplot(data = data,\n",
    "                       x = 'pop_city_10k', \n",
    "                       y = 'profit_10k',\n",
    "                       palette = 'flare',\n",
    "                       markers=True\n",
    "                      )\n",
    "\n",
    "#plt.axhline(2500, color = 'red')\n",
    "#plt.axvline(300, color = 'red')\n",
    "\n",
    "plt.ylim(-5, 25)\n",
    "plt.xlim(0, 25)\n",
    "#plt.xticks(np.arange(0, 700, 100))\n",
    "#plt.yticks(np.arange(0, 5250, 250))\n",
    "plt.xlabel('Population of City in 10,000s', fontsize = 12)\n",
    "plt.ylabel('Profit in $10,000s', fontsize = 12)\n",
    "plt.title('Fig. 1 -Profit x Population Size', fontsize = 14)\n",
    "\n",
    "# def label_point(x, y, val, ax):\n",
    "#     a = pd.concat({'x': x, 'y': y, 'val': val}, axis=1)\n",
    "#     for i, point in a.iterrows():\n",
    "#         ax.text(point['x']+0.5, point['y']+0.5, str(point['val']))\n",
    "\n",
    "# label_point(hm_macro['pop_pet_intern_share_wt'], hm_macro['rend_percapita_wt'], hm_macro['macro_regiao'], fg01)  \n",
    "                                                                                           \n",
    "plt.show(fg01)"
   ]
  },
  {
   "cell_type": "code",
   "execution_count": 6,
   "metadata": {},
   "outputs": [],
   "source": [
    "y = 'profit_10k'\n",
    "features = ['pop_city_10k']\n",
    "\n",
    "def return_arrays(data, y, features, iterations, alpha):\n",
    "\n",
    "    # All columns will have the same number of rows that the number of rows in the target column\n",
    "    nlines = len(data[y])\n",
    "\n",
    "    # Number of features\n",
    "    nfeatures = len(features) + 1\n",
    "\n",
    "    # Initialize ydata and x data setting all values to one\n",
    "    ydata = np.ones((nlines,1))\n",
    "    xdata = np.ones((nlines,nfeatures))\n",
    "\n",
    "    # Replace first columns with the target column\n",
    "    ydata[:,0] = np.array(data[y])\n",
    "\n",
    "    # Replace columns with feature values\n",
    "    count_feature = 0\n",
    "    for feature in features:\n",
    "        xdata[:, count_feature] = np.array(list(data[feature]))\n",
    "        count_feature += 1\n",
    "\n",
    "    # Initialize theta\n",
    "    theta = np.zeros((nfeatures, 1))\n",
    "\n",
    "    # Calculate cost J\n",
    "    j = sum((xdata@theta - ydata)**2)/(2*nlines)\n",
    "\n",
    "\n",
    "    return (ydata, xdata, theta, iterations, alpha, j[0])"
   ]
  },
  {
   "cell_type": "code",
   "execution_count": 7,
   "metadata": {},
   "outputs": [],
   "source": [
    "y, x, th, it, a, j = return_arrays(data=data, y = 'profit_10k', features = ['pop_city_10k'], iterations=1500, alpha=0.01)"
   ]
  },
  {
   "cell_type": "code",
   "execution_count": 132,
   "metadata": {},
   "outputs": [
    {
     "data": {
      "text/plain": [
       "32.072733877455654"
      ]
     },
     "execution_count": 132,
     "metadata": {},
     "output_type": "execute_result"
    }
   ],
   "source": []
  },
  {
   "cell_type": "code",
   "execution_count": null,
   "metadata": {},
   "outputs": [],
   "source": []
  }
 ],
 "metadata": {
  "interpreter": {
   "hash": "0ebb56e11fce8d8a45f1cb51ff87f5f8c1497137c0ff12be6ec2939dc616a302"
  },
  "kernelspec": {
   "display_name": "Python 3.8.8 64-bit ('base': conda)",
   "language": "python",
   "name": "python3"
  },
  "language_info": {
   "codemirror_mode": {
    "name": "ipython",
    "version": 3
   },
   "file_extension": ".py",
   "mimetype": "text/x-python",
   "name": "python",
   "nbconvert_exporter": "python",
   "pygments_lexer": "ipython3",
   "version": "3.8.8"
  },
  "orig_nbformat": 4
 },
 "nbformat": 4,
 "nbformat_minor": 2
}
