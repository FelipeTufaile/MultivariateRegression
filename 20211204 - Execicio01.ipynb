{
 "cells": [
  {
   "cell_type": "markdown",
   "metadata": {},
   "source": [
    "MULTIVARIATE REGRESSION"
   ]
  },
  {
   "cell_type": "code",
   "execution_count": 1,
   "metadata": {},
   "outputs": [],
   "source": [
    "import pandas as pd\n",
    "import numpy as np\n",
    "\n",
    "# Plotting\n",
    "import seaborn as sns\n",
    "import matplotlib.pyplot as plt"
   ]
  },
  {
   "cell_type": "code",
   "execution_count": null,
   "metadata": {},
   "outputs": [],
   "source": [
    "path = r'C:\\Users\\felipe.tufaile\\Documents\\GitHub\\MultivariateRegression\\ex1\\{file}.txt'\n",
    "file = 'ex1data1'\n",
    "data = pd.read_csv(path.format(file=file), sep=\",\", header=None)\n",
    "data = data.rename(columns={0:'pop_city_10k', 1:'profit_10k'})"
   ]
  },
  {
   "cell_type": "code",
   "execution_count": null,
   "metadata": {},
   "outputs": [],
   "source": [
    "## WITH COMPETITORS\n",
    "\n",
    "plt.figure(figsize = (20,8))\n",
    "sns.set_theme(style=\"whitegrid\")\n",
    "\n",
    "fg01 = sns.scatterplot(data = data,\n",
    "                       x = 'pop_city_10k', \n",
    "                       y = 'profit_10k',\n",
    "                       palette = 'flare',\n",
    "                       markers=True\n",
    "                      )\n",
    "\n",
    "#plt.axhline(2500, color = 'red')\n",
    "#plt.axvline(300, color = 'red')\n",
    "\n",
    "plt.ylim(-5, 25)\n",
    "plt.xlim(0, 25)\n",
    "#plt.xticks(np.arange(0, 700, 100))\n",
    "#plt.yticks(np.arange(0, 5250, 250))\n",
    "plt.xlabel('Population of City in 10,000s', fontsize = 12)\n",
    "plt.ylabel('Profit in $10,000s', fontsize = 12)\n",
    "plt.title('Fig. 1 -Profit x Population Size', fontsize = 14)\n",
    "\n",
    "# def label_point(x, y, val, ax):\n",
    "#     a = pd.concat({'x': x, 'y': y, 'val': val}, axis=1)\n",
    "#     for i, point in a.iterrows():\n",
    "#         ax.text(point['x']+0.5, point['y']+0.5, str(point['val']))\n",
    "\n",
    "# label_point(hm_macro['pop_pet_intern_share_wt'], hm_macro['rend_percapita_wt'], hm_macro['macro_regiao'], fg01)  \n",
    "                                                                                           \n",
    "plt.show(fg01)"
   ]
  },
  {
   "cell_type": "code",
   "execution_count": null,
   "metadata": {},
   "outputs": [],
   "source": [
    "#\n",
    "# PROBLEM 1\n",
    "#\n",
    "class MultivarRegressor(object):\n",
    "\n",
    "    \"\"\"\n",
    "    Representation of a multivariate regressor with regularization.\n",
    "    \"\"\"\n",
    "\n",
    "    import numpy as np\n",
    "    import pandas as pd\n",
    "\n",
    "    def __init__(self, ydata, xdata):\n",
    "        \"\"\"\n",
    "        Initialize a MultivarRegressor instance, saves all parameters as attributes\n",
    "        of the instance.        \n",
    "        x: Features (pandas dataframe containing all independent variables for all samples)        \n",
    "        y: Target (pandas dataframe containing the dependent variable for all samples)\n",
    "        \"\"\"\n",
    "        self.xdata = xdata\n",
    "        self.ydata = ydata\n",
    "\n",
    "    def getYcolumns(self):\n",
    "        \"\"\"\n",
    "        Returns the target column as a list.\n",
    "        \"\"\"\n",
    "        return list(self.ydata.columns)\n",
    "\n",
    "    def getXcolumns(self):\n",
    "        \"\"\"\n",
    "        Returns the features columns as a list.\n",
    "        \"\"\"\n",
    "        return list(self.xdata.columns)\n",
    "\n",
    "    def getNumberSamples(self):\n",
    "        \"\"\"\n",
    "        Returns the number of samples in the dataframe.\n",
    "        \"\"\"\n",
    "        return len(self.ydata[self.getYcolumns()[0]])\n",
    "\n",
    "    def getNumberfeatures(self):\n",
    "        \"\"\"\n",
    "        Returns the number of features in the dataframe considering the constant term.\n",
    "        \"\"\"\n",
    "        return len(self.getXcolumns()) + 1\n",
    "\n",
    "    def InitY(self):\n",
    "        \"\"\"\n",
    "        Returns a numpy vector for the target.\n",
    "        \"\"\"\n",
    "        # Initialize target vector with ones\n",
    "        y = np.ones((self.getNumberSamples(), 1))\n",
    "        # Replace columns with target values\n",
    "        y[:,0] = np.array(self.ydata[self.getYcolumns()[0]])\n",
    "        return y\n",
    "\n",
    "    def InitX(self):\n",
    "        \"\"\"\n",
    "        Returns a numpy matrix for the features.\n",
    "        \"\"\"\n",
    "        # Initialize features matrix with ones\n",
    "        x = np.ones((self.getNumberSamples(), self.getNumberfeatures()))\n",
    "        # Replace columns with feature values\n",
    "        count_feature = 0\n",
    "        for feature in self.getXcolumns():\n",
    "            x[:, count_feature] = np.array(list(self.xdata[feature]))\n",
    "            count_feature += 1\n",
    "        return x\n",
    "\n",
    "    def InitTheta(self):\n",
    "        \"\"\"\n",
    "        Returns a numpy vector with zeros for theta.\n",
    "        \"\"\"\n",
    "        return np.zeros((1, self.getNumberfeatures()))\n",
    "\n",
    "\n",
    "    def GradientDescent(self, alpha, lamb, iterations):\n",
    "        \"\"\"\n",
    "        Runs Gradient Descent using Perceptron Algorithm.\n",
    "        th: the vector theta after all iterations\n",
    "        j: list of the cost calculated for each iteration\n",
    "        alpha: Learning rate\n",
    "        lamb: Regularization term.\n",
    "        itreation list.\n",
    "        \"\"\"\n",
    "\n",
    "        # Initialize J\n",
    "        j = []\n",
    "        # Initialize Y\n",
    "        y = self.InitY()\n",
    "        # Initialize X\n",
    "        x = self.InitX()\n",
    "        # Initialize Theta\n",
    "        th = self.InitTheta()\n",
    "        # Calculate samples size\n",
    "        m = self.getNumberSamples()\n",
    "\n",
    "        # Iterate though all the iteration points\n",
    "        for it in range(iterations):\n",
    "            # Calculate error\n",
    "            h = x@th.T - y\n",
    "            # Regularization Term\n",
    "            thReg = np.array([list(th[0][0:-1]) + [0]]) \n",
    "            # Calculate cost J\n",
    "            jtemp = (sum(h**2) + sum(thReg**2))/(2*m)\n",
    "            j.append(jtemp[0])\n",
    "            \n",
    "            # Transpose error vector\n",
    "            htransp = h.T \n",
    "            # Update theta\n",
    "            th = th - alpha*((h.T)@x + lamb*thReg)/m\n",
    "\n",
    "        return (th, j)\n",
    "\n"
   ]
  },
  {
   "cell_type": "code",
   "execution_count": null,
   "metadata": {},
   "outputs": [],
   "source": [
    "Regressor = MultivarRegressor(ydata = data[['profit_10k']], xdata = data[['pop_city_10k']])"
   ]
  },
  {
   "cell_type": "code",
   "execution_count": null,
   "metadata": {},
   "outputs": [],
   "source": [
    "theta, cost = Regressor.GradientDescent(alpha=0.01, lamb = 0, iterations=1500)"
   ]
  },
  {
   "cell_type": "code",
   "execution_count": null,
   "metadata": {},
   "outputs": [],
   "source": [
    "## WITH COMPETITORS\n",
    "\n",
    "plt.figure(figsize = (20,8))\n",
    "sns.set_theme(style=\"whitegrid\")\n",
    "\n",
    "fg01 = sns.lineplot(x = range(1500), \n",
    "                    y = cost,\n",
    "                    palette = 'flare',\n",
    "                    markers=True\n",
    "                      )\n",
    "\n",
    "#plt.axhline(2500, color = 'red')\n",
    "#plt.axvline(300, color = 'red')\n",
    "\n",
    "#plt.ylim(-5, 25)\n",
    "#plt.xlim(0, 25)\n",
    "#plt.xticks(np.arange(0, 700, 100))\n",
    "#plt.yticks(np.arange(0, 5250, 250))\n",
    "plt.xlabel('Population of City in 10,000s', fontsize = 12)\n",
    "plt.ylabel('Profit in $10,000s', fontsize = 12)\n",
    "plt.title('Fig. 1 -Profit x Population Size', fontsize = 14)\n",
    "\n",
    "# def label_point(x, y, val, ax):\n",
    "#     a = pd.concat({'x': x, 'y': y, 'val': val}, axis=1)\n",
    "#     for i, point in a.iterrows():\n",
    "#         ax.text(point['x']+0.5, point['y']+0.5, str(point['val']))\n",
    "\n",
    "# label_point(hm_macro['pop_pet_intern_share_wt'], hm_macro['rend_percapita_wt'], hm_macro['macro_regiao'], fg01)  \n",
    "                                                                                           \n",
    "plt.show(fg01)"
   ]
  },
  {
   "cell_type": "code",
   "execution_count": null,
   "metadata": {},
   "outputs": [],
   "source": [
    "path = r'C:\\Users\\felipe.tufaile\\Documents\\GitHub\\MultivariateRegression\\ex1\\{file}.txt'\n",
    "file = 'ex1data2'\n",
    "rawdata = pd.read_csv(path.format(file=file), sep=\",\", header=None)\n",
    "rawdata = rawdata.rename(columns={0:'house_size_ft2', 1:'bedrooms', 2:'price_house'})"
   ]
  },
  {
   "cell_type": "code",
   "execution_count": null,
   "metadata": {},
   "outputs": [],
   "source": [
    "plt.figure(figsize = (20,8))\n",
    "sns.set_theme(style=\"whitegrid\")\n",
    "fg01 = sns.scatterplot(data = rawdata,\n",
    "                       x = 'house_size_ft2', \n",
    "                       y = 'price_house',\n",
    "                       palette = 'flare',\n",
    "                       markers=True)\n",
    "plt.ylim(0, 800000)\n",
    "plt.xlim(0, 5000)\n",
    "plt.xlabel('House Size in Squared Feet', fontsize = 12)\n",
    "plt.ylabel('House Price', fontsize = 12)\n",
    "plt.title('Fig. 2 - Houses prices as a function of houses sizes', fontsize = 14)                                                                                     \n",
    "plt.show(fg01)"
   ]
  },
  {
   "cell_type": "code",
   "execution_count": null,
   "metadata": {},
   "outputs": [],
   "source": [
    "data = rawdata[rawdata.columns]\n",
    "\n",
    "mu_house_size  = data['house_size_ft2'].mean()\n",
    "std_house_size = data['house_size_ft2'].std()\n",
    "\n",
    "data['house_size_ft2'] = (data['house_size_ft2'] - mu_house_size)/std_house_size\n",
    "\n",
    "\n",
    "mu_bedroom  = data['bedrooms'].mean()\n",
    "std_bedroom = data['bedrooms'].std()\n",
    "\n",
    "data['bedrooms'] = (data['bedrooms'] - mu_bedroom)/std_bedroom"
   ]
  },
  {
   "cell_type": "code",
   "execution_count": null,
   "metadata": {},
   "outputs": [],
   "source": [
    "plt.figure(figsize = (20,8))\n",
    "sns.set_theme(style=\"whitegrid\")\n",
    "\n",
    "Regressor = MultivarRegressor(ydata = data[['price_house']], xdata = data[['house_size_ft2', 'bedrooms']])\n",
    "\n",
    "for alpha in [0.001, 0.01, 0.1]:\n",
    "    theta, cost = Regressor.GradientDescent(alpha=alpha, lamb = 0, iterations=1500)\n",
    "\n",
    "    fg01 = sns.lineplot(x = range(1500), \n",
    "                        y = cost,\n",
    "                        palette = 'flare',\n",
    "                        markers=True,\n",
    "                        label=str(alpha))\n",
    "\n",
    "plt.xlabel('Iterations', fontsize = 12)\n",
    "plt.ylabel('Total Cost', fontsize = 12)\n",
    "plt.title('Fig. 1 - Total Cost x Number of Iterations', fontsize = 14)\n",
    "plt.show(fg01)"
   ]
  },
  {
   "cell_type": "code",
   "execution_count": null,
   "metadata": {},
   "outputs": [],
   "source": [
    "yest = []\n",
    "xest = []\n",
    "for item in data.to_dict('records'):\n",
    "    pred = np.array([item['house_size_ft2'], item['bedrooms'], 1])@(theta.T)\n",
    "    yest.append(pred[0])\n",
    "    xest.append(item['house_size_ft2']*mu_house_size + std_house_size)"
   ]
  },
  {
   "cell_type": "code",
   "execution_count": null,
   "metadata": {},
   "outputs": [],
   "source": [
    "plt.figure(figsize = (20,8))\n",
    "sns.set_theme(style=\"whitegrid\")\n",
    "sns.scatterplot(data = rawdata, x = 'house_size_ft2', y = 'price_house', palette = 'flare', markers=True)\n",
    "sns.lineplot(x = xest, y = yest, color = 'red')\n",
    "plt.ylim(0, 800000)\n",
    "plt.xlim(0, 5000)\n",
    "plt.xlabel('House Size in Squared Feet', fontsize = 12)\n",
    "plt.ylabel('House Price', fontsize = 12)\n",
    "plt.title('Fig. 2 - Houses prices as a function of houses sizes', fontsize = 14)                                                                                     \n",
    "plt.show()"
   ]
  },
  {
   "cell_type": "markdown",
   "metadata": {},
   "source": [
    "LOGISTIC REGRESSION"
   ]
  },
  {
   "cell_type": "code",
   "execution_count": 18,
   "metadata": {},
   "outputs": [],
   "source": [
    "path = r'C:\\Users\\felipe.tufaile\\Documents\\GitHub\\Stanford Machine Learning\\Arquivos\\ex2\\{file}.txt'\n",
    "file = 'ex2data1'\n",
    "rawdata = pd.read_csv(path.format(file=file), sep=\",\", header=None)\n",
    "rawdata = rawdata.rename(columns={0:'exam1_score', 1:'exam2_score', 2:'admittion'})"
   ]
  },
  {
   "cell_type": "code",
   "execution_count": 19,
   "metadata": {},
   "outputs": [
    {
     "data": {
      "image/png": "[encoded data removed]",
      "text/plain": [
       "<Figure size 1152x1152 with 1 Axes>"
      ]
     },
     "metadata": {},
     "output_type": "display_data"
    }
   ],
   "source": [
    "plt.figure(figsize = (16,16))\n",
    "sns.set_theme(style=\"whitegrid\")\n",
    "fg01 = sns.scatterplot(data = rawdata,\n",
    "                       x = 'exam1_score', \n",
    "                       y = 'exam2_score',\n",
    "                       palette = 'bright',\n",
    "                       hue = 'admittion',\n",
    "                       markers=True)\n",
    "plt.ylim(30, 100)\n",
    "plt.xlim(30, 100)\n",
    "plt.xlabel('Exam 1 Score', fontsize = 12)\n",
    "plt.ylabel('Exam 2 Score', fontsize = 12)\n",
    "plt.title('Fig. 2 - Sctter Plot of Trainning Data', fontsize = 14)                                                                                     \n",
    "plt.show(fg01)"
   ]
  },
  {
   "cell_type": "code",
   "execution_count": 29,
   "metadata": {},
   "outputs": [],
   "source": [
    "#\n",
    "# PROBLEM 1\n",
    "#\n",
    "class LogisticRegressor(object):\n",
    "\n",
    "    \"\"\"\n",
    "    Representation of a multivariate regressor with regularization.\n",
    "    \"\"\"\n",
    "\n",
    "    import numpy as np\n",
    "    import pandas as pd\n",
    "\n",
    "    def __init__(self, ydata, xdata):\n",
    "        \"\"\"\n",
    "        Initialize a MultivarRegressor instance, saves all parameters as attributes\n",
    "        of the instance.        \n",
    "        x: Features (pandas dataframe containing all independent variables for all samples)        \n",
    "        y: Target (pandas dataframe containing the dependent variable for all samples)\n",
    "        \"\"\"\n",
    "        self.xdata = xdata\n",
    "        self.ydata = ydata\n",
    "\n",
    "    def getYcolumns(self):\n",
    "        \"\"\"\n",
    "        Returns the target column as a list.\n",
    "        \"\"\"\n",
    "        return list(self.ydata.columns)\n",
    "\n",
    "    def getXcolumns(self):\n",
    "        \"\"\"\n",
    "        Returns the features columns as a list.\n",
    "        \"\"\"\n",
    "        return list(self.xdata.columns)\n",
    "\n",
    "    def getNumberSamples(self):\n",
    "        \"\"\"\n",
    "        Returns the number of samples in the dataframe.\n",
    "        \"\"\"\n",
    "        return len(self.ydata[self.getYcolumns()[0]])\n",
    "\n",
    "    def getNumberfeatures(self):\n",
    "        \"\"\"\n",
    "        Returns the number of features in the dataframe considering the constant term.\n",
    "        \"\"\"\n",
    "        return len(self.getXcolumns()) + 1\n",
    "\n",
    "    def InitY(self):\n",
    "        \"\"\"\n",
    "        Returns a numpy vector for the target.\n",
    "        \"\"\"\n",
    "        # Initialize target vector with ones\n",
    "        y = np.ones((self.getNumberSamples(), 1))\n",
    "        # Replace columns with target values\n",
    "        y[:,0] = np.array(self.ydata[self.getYcolumns()[0]])\n",
    "        return y\n",
    "\n",
    "    def InitX(self):\n",
    "        \"\"\"\n",
    "        Returns a numpy matrix for the features.\n",
    "        \"\"\"\n",
    "        # Initialize features matrix with ones\n",
    "        x = np.ones((self.getNumberSamples(), self.getNumberfeatures()))\n",
    "        # Replace columns with feature values\n",
    "        count_feature = 0\n",
    "        for feature in self.getXcolumns():\n",
    "            x[:, count_feature] = np.array(list(self.xdata[feature]))\n",
    "            count_feature += 1\n",
    "        return x\n",
    "\n",
    "    def InitTheta(self):\n",
    "        \"\"\"\n",
    "        Returns a numpy vector with zeros for theta.\n",
    "        \"\"\"\n",
    "        return np.zeros((1, self.getNumberfeatures()))\n",
    "        #return np.random.rand(1, self.getNumberfeatures())\n",
    "\n",
    "\n",
    "    def GradientDescent(self, iterations, alpha, lamb):\n",
    "\n",
    "        \"\"\"\n",
    "        Runs Gradient Descent using Perceptron Algorithm.\n",
    "        th: the vector theta after all iterations\n",
    "        j: list of the cost calculated for each iteration\n",
    "        alpha: Learning rate\n",
    "        lamb: Regularization term.\n",
    "        itreation list.\n",
    "        \"\"\"\n",
    "\n",
    "        def sigmoid(x):\n",
    "            return 1 / (1 + np.exp(-x))\n",
    "\n",
    "        # Initialize J\n",
    "        j = []\n",
    "        # Initialize Y\n",
    "        y = self.InitY()\n",
    "        # Initialize X\n",
    "        x = self.InitX()\n",
    "        # Initialize Theta\n",
    "        th = self.InitTheta()\n",
    "        # Get number of samples\n",
    "        m = self.getNumberSamples()\n",
    "        # Create a vector of ones\n",
    "        vec_ones = np.ones((m, 1))\n",
    "\n",
    "        e = 0.0000000001\n",
    "        for it in range(iterations):\n",
    "            # Calculate hypothesis function\n",
    "            h = sigmoid(x@(th.T))\n",
    "            # Regularization Term\n",
    "            thReg = np.array([list(th[0][0:-1]) + [0]])\n",
    "            # Calculate cost\n",
    "            jtemp = sum(-(y.T)@np.log(np.maximum(h,e))/m - ((vec_ones -y).T)@np.log(np.maximum(vec_ones - h, e))/m)\n",
    "            j.append(jtemp[0])\n",
    "            # Calculate loss function\n",
    "            loss = (h - y).T\n",
    "            # Update Theta\n",
    "            th = th - alpha*(loss@x + lamb*thReg)/m\n",
    "\n",
    "        return (th, j)\n",
    "\n",
    "\n"
   ]
  },
  {
   "cell_type": "code",
   "execution_count": 30,
   "metadata": {},
   "outputs": [],
   "source": [
    "data = rawdata[rawdata.columns]\n",
    "\n",
    "mu_house_size  = data['exam1_score'].mean()\n",
    "std_house_size = data['exam1_score'].std()\n",
    "\n",
    "data['exam1_score'] = (data['exam1_score'] - mu_house_size)/std_house_size\n",
    "\n",
    "\n",
    "mu_bedroom  = data['exam2_score'].mean()\n",
    "std_bedroom = data['exam2_score'].std()\n",
    "\n",
    "data['exam2_score'] = (data['exam2_score'] - mu_bedroom)/std_bedroom"
   ]
  },
  {
   "cell_type": "code",
   "execution_count": 32,
   "metadata": {},
   "outputs": [
    {
     "name": "stdout",
     "output_type": "stream",
     "text": [
      "0.4106180703305038\n",
      "0.2316632533008708\n",
      "0.2036051057163244\n",
      "0.20349770158944003\n"
     ]
    },
    {
     "data": {
      "image/png": "[encoded data removed]",
      "text/plain": [
       "<Figure size 1440x576 with 1 Axes>"
      ]
     },
     "metadata": {},
     "output_type": "display_data"
    }
   ],
   "source": [
    "plt.figure(figsize = (20,8))\n",
    "sns.set_theme(style=\"whitegrid\")\n",
    "\n",
    "Regressor = LogisticRegressor(ydata = data[['admittion']], xdata = data[['exam1_score', 'exam2_score']])\n",
    "\n",
    "for alpha in [0.01, 0.1, 1, 10]:\n",
    "    theta, cost = Regressor.GradientDescent(alpha=alpha, lamb = 0, iterations=400)\n",
    "    print(cost[-1])\n",
    "\n",
    "    fg01 = sns.lineplot(x = range(400), \n",
    "                        y = cost,\n",
    "                        palette = 'flare',\n",
    "                        markers=True,\n",
    "                        label=str(alpha))\n",
    "\n",
    "plt.xlabel('Iterations', fontsize = 12)\n",
    "plt.ylabel('Total Cost', fontsize = 12)\n",
    "plt.title('Fig. 1 - Total Cost x Number of Iterations', fontsize = 14)\n",
    "plt.show(fg01)"
   ]
  },
  {
   "cell_type": "code",
   "execution_count": 35,
   "metadata": {},
   "outputs": [],
   "source": [
    "def sigmoid(x):\n",
    "    return 1 / (1 + np.exp(-x))"
   ]
  },
  {
   "cell_type": "code",
   "execution_count": 51,
   "metadata": {},
   "outputs": [
    {
     "data": {
      "text/plain": [
       "array([[45, 85,  1]])"
      ]
     },
     "execution_count": 51,
     "metadata": {},
     "output_type": "execute_result"
    }
   ],
   "source": [
    "x = np.array([[45,85,1]])\n",
    "x"
   ]
  },
  {
   "cell_type": "code",
   "execution_count": 52,
   "metadata": {},
   "outputs": [
    {
     "data": {
      "text/plain": [
       "array([[-1.06095376,  1.01050536,  1.        ]])"
      ]
     },
     "execution_count": 52,
     "metadata": {},
     "output_type": "execute_result"
    }
   ],
   "source": [
    "z = [(x[0][0] - mu_house_size)/std_house_size, (x[0][1] - mu_bedroom)/std_bedroom, 1]\n",
    "z = np.array([z])\n",
    "z"
   ]
  },
  {
   "cell_type": "code",
   "execution_count": 56,
   "metadata": {},
   "outputs": [
    {
     "data": {
      "text/plain": [
       "array([[0.77629069]])"
      ]
     },
     "execution_count": 56,
     "metadata": {},
     "output_type": "execute_result"
    }
   ],
   "source": [
    "sigmoid(z@(theta.T))"
   ]
  },
  {
   "cell_type": "code",
   "execution_count": null,
   "metadata": {},
   "outputs": [],
   "source": []
  }
 ],
 "metadata": {
  "interpreter": {
   "hash": "0ebb56e11fce8d8a45f1cb51ff87f5f8c1497137c0ff12be6ec2939dc616a302"
  },
  "kernelspec": {
   "display_name": "Python 3.8.8 64-bit ('base': conda)",
   "language": "python",
   "name": "python3"
  },
  "language_info": {
   "codemirror_mode": {
    "name": "ipython",
    "version": 3
   },
   "file_extension": ".py",
   "mimetype": "text/x-python",
   "name": "python",
   "nbconvert_exporter": "python",
   "pygments_lexer": "ipython3",
   "version": "3.8.8"
  },
  "orig_nbformat": 4
 },
 "nbformat": 4,
 "nbformat_minor": 2
}
